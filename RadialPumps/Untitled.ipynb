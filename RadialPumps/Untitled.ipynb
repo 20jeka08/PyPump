{
 "cells": [
  {
   "cell_type": "code",
   "execution_count": 1,
   "metadata": {},
   "outputs": [],
   "source": [
    "from impeller import PyPumpRadialImpeller as cp\n",
    "import numpy as np"
   ]
  },
  {
   "cell_type": "code",
   "execution_count": 2,
   "metadata": {},
   "outputs": [
    {
     "name": "stdout",
     "output_type": "stream",
     "text": [
      "Help on class PyPumpRadialImpeller in module impeller:\n",
      "\n",
      "class PyPumpRadialImpeller(builtins.object)\n",
      " |  PyPumpRadialImpeller(H, Q, n, i, ro)\n",
      " |  \n",
      " |  Methods defined here:\n",
      " |  \n",
      " |  D1LambdaMethod(self, shaftD, lambdaC=1.15, lambdaW=0.2)\n",
      " |      Calculation recommended suction diameter - D1 [mm] based on two chosen coefficients lambdaC and lambdaW\n",
      " |      in general (1.1 < lambdaC < 1.2) and (0.1 < lambdaW < 0.3), shaftD - shaft diameter [mm]\n",
      " |  \n",
      " |  D1RelativeVelocityMinimum(self, shaftD, D2, psi, VolEff, fd=1.15)\n",
      " |      Calculation recommended suction diameter - D1 [mm] for minimum relative velocity (recommended for\n",
      " |      second (and following) stages of multistage pumps)\n",
      " |      shaftD - shaft diameter [mm], D2 - impeller diameter [mm], psi - head coefficient [-], nq - specific speed,\n",
      " |      VolEff - volume efficiency [%], fd - factor: for normal impellers 1.05<fd<1.15, for suction impellers\n",
      " |       1.15<fd<1.25\n",
      " |  \n",
      " |  D1RudnevMethod(self, shaftD, VolEff, alpha=0.08)\n",
      " |      Calculation recommended suction diameter - D1 [mm] based on alpha coefficient (Rudnev method),\n",
      " |      0.06 < alpha < 0.1 (default alpha = 0.08). shaftD - shaft diameter of the pump [mm],\n",
      " |      VolEff - volume efficiency [%]\n",
      " |  \n",
      " |  D2(self, psi)\n",
      " |      Calculation of recommended diameter of impeller D2 [mm] with defined head coefficient - psi\n",
      " |  \n",
      " |  EfficiencyRadialMultistageSingleEntry(self)\n",
      " |      Estimation of the centrifugal (radial) multistage pump efficiency [%] which is single entry. Efficiency\n",
      " |      value based on specific speed - nq (nq<=60), and volume flow rate - Q [m^3/s]\n",
      " |  \n",
      " |  EfficiencyRadialSingleStageDoubleEntry(self)\n",
      " |      Estimation of the centrifugal (radial) single stage pump efficiency [%] which is double entry. Efficiency\n",
      " |      value based on specific speed - nq (nq<=50), and volume flow rate - Q [m^3/s]\n",
      " |  \n",
      " |  EfficiencyRadialSingleStageSingeEntry(self)\n",
      " |      Estimation of the centrifugal (radial) pump efficiency [%] which is single stage and single entry\n",
      " |      Efficiency value based on specific speed - nq (nq<=100), and volume flow rate - Q [m^3/s]\n",
      " |  \n",
      " |  HydraulicEfficiencyRadialPumpMultistage(self)\n",
      " |      Estimation of the centrifugal (radial) multistage pump hydraulic efficiency [%]. Hydraulic efficiency\n",
      " |      value based on specific speed - nq (nq<=60), and volume flow rate - Q [m^3/s]\n",
      " |  \n",
      " |  HydraulicEfficiencyRadialPumpSingleStage(self)\n",
      " |      Estimation of the centrifugal (radial) single stage pump hydraulic efficiency [%]. Hydraulic\n",
      " |      efficiency value based on specific speed - nq (nq<=100), and volume flow rate - Q [m^3/s]\n",
      " |  \n",
      " |  Pmax(self, Efficiency)\n",
      " |      Estimation maximal power on shaft of the pump - Pmax [W], Efficiency - efficiency of the pump [%]\n",
      " |  \n",
      " |  VolumeEffEstimation(self)\n",
      " |      Estimation volume efficiency based on specific speed (RU), VolEff [%]\n",
      " |  \n",
      " |  __init__(self, H, Q, n, i, ro)\n",
      " |      Initialize self.  See help(type(self)) for accurate signature.\n",
      " |  \n",
      " |  b2(self, D2)\n",
      " |      Calculation recommended outlet width of the impeller - b2 [mm] with defined - D2 [mm]\n",
      " |  \n",
      " |  bladeThickness(self, D2)\n",
      " |      Calculation blade thickness - e [mm] for D2 [mm], function returns e [mm]. Range of the value\n",
      " |      0.016 < e/D2 < 0.022\n",
      " |  \n",
      " |  c1m(self, D1, shaftD, volumeEfficiency=100)\n",
      " |      Calculation of the meridional axial component of the flow velocity - c1m [m/s], arguments:\n",
      " |      D1 [mm] - suction diameter of impeller, shaftD [mm] - diameter of the hub, volumeEfficiency [%] -\n",
      " |      volume efficiency of the pump\n",
      " |  \n",
      " |  c2m(self, D2, b2, volumeEfficiency=100)\n",
      " |      Calculation meridional axial component of velocity - c2m [m/s], arguments:\n",
      " |  \n",
      " |  c2u(self, hydraulicEff, u2, u1=0, c1u=0)\n",
      " |      Calculation circumferential component of absolute velocity - c2u [m/s], arguments:\n",
      " |      hydraulicEff [%] - hydraulic efficiency of the pump; u2 [m/s] - circumferential speed\n",
      " |      c1u [m/s] - pre-swirl of the flow\n",
      " |  \n",
      " |  impellerBladeNumber(self, highCavitaion=False)\n",
      " |      Recommended blade number of impeller Z, the range of this value from 5 to 7, for high NPSH and flat\n",
      " |      cavitation curve 5 or 6 number recommended\n",
      " |  \n",
      " |  impellerHead(self, c2m, u2, e2, Z, D2, hydraulicEff, Beta2)\n",
      " |      Calculation of the impeller pump head - H [m], arguments:\n",
      " |      c2m [m/s] - meridional component of absolute velocity;\n",
      " |      u2 [m/s] - circumferential speed; e2 [mm] - thickness trailing edge; Z [-] - number of blades\n",
      " |      D2 [mm] - impeller diameter; hydraulicEff [%] - hydraulic efficiency of the pump;\n",
      " |      Beta2 [degree] - user's value of Beta2\n",
      " |  \n",
      " |  inletBladeAngle(self, c1m, u1, D1, Z, e1, i=2, c1u=0)\n",
      " |      Calculation of the blade angle for inlet, arguments: c1m [m/s] - meridional axial component of velocity;\n",
      " |      u1 [m/s] - circumferential velocity for any diameter; D1 [mm] - suction diameter of impeller;\n",
      " |      Z - number of the blades; e1 [mm] - thickness of the blade inlet; i [degree] - incidence angle;\n",
      " |      c1u [m/s] - pre-swirl of the flow\n",
      " |  \n",
      " |  inletFlowAngleRelative(self, c1m, u1, c1u=0)\n",
      " |      Calculation of the flow angle for inlet, arguments: c1m [m/s] - meridional axial component of velocity;\n",
      " |      u1 [m/s] - circumferential velocity for any diameter;  c1u [m/s] - pre-swirl of the flow\n",
      " |  \n",
      " |  inletFlowCoefficient(self, c1m, u1)\n",
      " |      Calculation flow coefficient for inlet - phi [-], arguments:\n",
      " |      c1m [m/s] - meridional axial component of velocity; u1 [m/s] - circumferential velocity for any diameter;\n",
      " |  \n",
      " |  nq(self)\n",
      " |      Specific speed of the pump (EU)\n",
      " |  \n",
      " |  ns(self)\n",
      " |      Specific speed of the pump (RU)\n",
      " |  \n",
      " |  outletFlowAngleRelative(self, c2m, c2u, u2, e2, Z, D2, Beta2)\n",
      " |      Calculation relative outlet angle without blockage - Beta2flow [degree], arguments:\n",
      " |      c2m [m/s] - meridional component of absolute velocity;\n",
      " |      c2u [m/s] - circumferential component of absolute velocity; u2 [m/s] - circumferential speed\n",
      " |      e2 [mm] - thickness trailing edge\n",
      " |      Z [-] - number of blades\n",
      " |      D2 [mm] - impeller diameter\n",
      " |      Beta2 [degree] - user's value of Beta2\n",
      " |  \n",
      " |  psi(self, ft=1.05)\n",
      " |      Calculation of the recommended head coefficient - psi, choose ft - from 1.0 to 1.1\n",
      " |      for steep and stability of H-Q curve ft value has to be less\n",
      " |  \n",
      " |  pumpHead(self, c2m, u2, e2, Z, D2, hydraulicEff, Beta2)\n",
      " |      Calculation of the impeller pump head - H [m], arguments:\n",
      " |      c2m [m/s] - meridional component of absolute velocity;\n",
      " |      u2 [m/s] - circumferential speed; e2 [mm] - thickness trailing edge; Z [-] - number of blades\n",
      " |      D2 [mm] - impeller diameter; hydraulicEff [%] - hydraulic efficiency of the pump;\n",
      " |      Beta2 [degree] - user's value of Beta2\n",
      " |  \n",
      " |  shaftD(self, Pmax, factorSafety=1.1, Tau=15000000)\n",
      " |      Calculation of the shaft diameter - dw[mm], based on maximal power on shaft - Pmax [W],\n",
      " |      material property - Tau [N/m^2], and user's factor safety for increasing shaft diameter value\n",
      " |  \n",
      " |  u1(self, D)\n",
      " |      Calculation U1 velocity for any D [mm] and rotation speed - n [rev/min], returns u1 [m/s]\n",
      " |  \n",
      " |  u2(self, D2)\n",
      " |      Calculation U2 velocity for D2 [mm] and rotation speed - n [rev/min], returns U2 [m/s]\n",
      " |  \n",
      " |  w1(self, c1m, u1, c1u=0)\n",
      " |      Calculation relative velocity for inlet - w1 [m/s], arguments:\n",
      " |      c1m [m/s] - meridional axial component of velocity; u1 [m/s] - circumferential velocity for any diameter;\n",
      " |      c1u [m/s] - pre-swirl of the flow\n",
      " |  \n",
      " |  ----------------------------------------------------------------------\n",
      " |  Data descriptors defined here:\n",
      " |  \n",
      " |  __dict__\n",
      " |      dictionary for instance variables (if defined)\n",
      " |  \n",
      " |  __weakref__\n",
      " |      list of weak references to the object (if defined)\n",
      "\n"
     ]
    }
   ],
   "source": [
    "help(cp)"
   ]
  },
  {
   "cell_type": "code",
   "execution_count": 22,
   "metadata": {},
   "outputs": [],
   "source": [
    "Imp1 = cp(H=15.0, Q=300.0/3600, n=2500, i=1, ro=997)\n",
    "ns = Imp1.ns()\n",
    "nq = Imp1.nq()\n",
    "psi = Imp1.psi(ft=1.0)\n",
    "D2 = Imp1.D2(psi)\n",
    "b2 = Imp1.b2(D2)"
   ]
  },
  {
   "cell_type": "code",
   "execution_count": 23,
   "metadata": {},
   "outputs": [
    {
     "data": {
      "text/plain": [
       "172.09"
      ]
     },
     "execution_count": 23,
     "metadata": {},
     "output_type": "execute_result"
    }
   ],
   "source": [
    "D2"
   ]
  },
  {
   "cell_type": "code",
   "execution_count": 24,
   "metadata": {},
   "outputs": [
    {
     "data": {
      "text/plain": [
       "34.63"
      ]
     },
     "execution_count": 24,
     "metadata": {},
     "output_type": "execute_result"
    }
   ],
   "source": [
    "b2"
   ]
  },
  {
   "cell_type": "code",
   "execution_count": null,
   "metadata": {},
   "outputs": [],
   "source": []
  }
 ],
 "metadata": {
  "kernelspec": {
   "display_name": "Python 3",
   "language": "python",
   "name": "python3"
  },
  "language_info": {
   "codemirror_mode": {
    "name": "ipython",
    "version": 3
   },
   "file_extension": ".py",
   "mimetype": "text/x-python",
   "name": "python",
   "nbconvert_exporter": "python",
   "pygments_lexer": "ipython3",
   "version": "3.7.4"
  }
 },
 "nbformat": 4,
 "nbformat_minor": 2
}
